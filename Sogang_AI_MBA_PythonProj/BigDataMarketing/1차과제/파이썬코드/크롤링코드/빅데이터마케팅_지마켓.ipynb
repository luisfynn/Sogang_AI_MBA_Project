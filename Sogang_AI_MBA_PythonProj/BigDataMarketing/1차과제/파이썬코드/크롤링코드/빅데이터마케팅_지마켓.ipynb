{
  "nbformat": 4,
  "nbformat_minor": 0,
  "metadata": {
    "colab": {
      "provenance": []
    },
    "kernelspec": {
      "name": "python3",
      "display_name": "Python 3"
    },
    "language_info": {
      "name": "python"
    }
  },
  "cells": [
    {
      "cell_type": "code",
      "source": [
        "import requests\n",
        "from bs4 import BeautifulSoup\n",
        "import pandas as pd\n",
        "\n",
        "def crawl_gmarket_search(query, num_pages):\n",
        "    product_names = []\n",
        "\n",
        "    for page in range(1, num_pages + 1):\n",
        "        url = f\"https://www.gmarket.co.kr/n/search?keyword={query}&k=20&p={page}\"\n",
        "        headers = {\n",
        "            'User-Agent': 'Mozilla/5.0 (Windows NT 10.0; Win64; x64) AppleWebKit/537.36 (KHTML, like Gecko) Chrome/96.0.4664.110 Safari/537.36'\n",
        "        }\n",
        "        response = requests.get(url, headers=headers)\n",
        "\n",
        "        if response.status_code == 200:\n",
        "            soup = BeautifulSoup(response.text, 'html.parser')\n",
        "            product_items = soup.find_all('span', class_='text__item')\n",
        "\n",
        "            for item in product_items:\n",
        "                product_name = item.get('title')\n",
        "                product_names.append(product_name)\n",
        "        else:\n",
        "            print(f\"Failed to retrieve search results for page {page}.\")\n",
        "\n",
        "    return product_names\n",
        "\n",
        "# 검색어와 페이지 수\n",
        "search_query = \"자기관리\"\n",
        "num_pages = 50  # 가져올 페이지 수 (50페이지)\n",
        "\n",
        "# 지마켓 검색 결과에서 상품 이름 추출\n",
        "product_names = crawl_gmarket_search(search_query, num_pages)\n",
        "\n",
        "# 결과를 데이터프레임으로 변환\n",
        "df = pd.DataFrame(product_names, columns=['Product Name'])\n",
        "\n",
        "# 엑셀 파일로 저장\n",
        "file_path = '/content/sample_data/빅데이터마케팅_지마켓/gmarket_products_자기관리_50페이지.xlsx'\n",
        "df.to_excel(file_path, index=False)\n",
        "\n",
        "print(\"상품 정보를 엑셀 파일로 저장했습니다.\")"
      ],
      "metadata": {
        "colab": {
          "base_uri": "https://localhost:8080/"
        },
        "id": "bjmuU_LhFggs",
        "outputId": "badd9a4b-2f9f-4d30-c73d-b87525b4f4c4"
      },
      "execution_count": 16,
      "outputs": [
        {
          "output_type": "stream",
          "name": "stdout",
          "text": [
            "상품 정보를 엑셀 파일로 저장했습니다.\n"
          ]
        }
      ]
    },
    {
      "cell_type": "code",
      "source": [
        "def crawl_gmarket_search(query, num_pages):\n",
        "    product_names = []\n",
        "\n",
        "    for page in range(1, num_pages + 1):\n",
        "        url = f\"https://www.gmarket.co.kr/n/search?keyword={query}&k=20&p={page}\"\n",
        "        headers = {\n",
        "            'User-Agent': 'Mozilla/5.0 (Windows NT 10.0; Win64; x64) AppleWebKit/537.36 (KHTML, like Gecko) Chrome/96.0.4664.110 Safari/537.36'\n",
        "        }\n",
        "        response = requests.get(url, headers=headers)\n",
        "\n",
        "        if response.status_code == 200:\n",
        "            soup = BeautifulSoup(response.text, 'html.parser')\n",
        "            product_items = soup.find_all('span', class_='text__item')\n",
        "\n",
        "            for item in product_items:\n",
        "                product_name = item.get('title')\n",
        "                product_names.append(product_name)\n",
        "        else:\n",
        "            print(f\"Failed to retrieve search results for page {page}.\")\n",
        "\n",
        "    return product_names\n",
        "\n",
        "# 검색어와 페이지 수\n",
        "search_query = \"습관관리\"\n",
        "num_pages = 50  # 가져올 페이지 수 (50페이지)\n",
        "\n",
        "# 지마켓 검색 결과에서 상품 이름 추출\n",
        "product_names = crawl_gmarket_search(search_query, num_pages)\n",
        "\n",
        "# 결과를 데이터프레임으로 변환\n",
        "df = pd.DataFrame(product_names, columns=['Product Name'])\n",
        "\n",
        "# 엑셀 파일로 저장\n",
        "file_path = '/content/sample_data/빅데이터마케팅_지마켓/gmarket_products_습관관리_11페이지.xlsx'\n",
        "df.to_excel(file_path, index=False)\n",
        "\n",
        "print(\"상품 정보를 엑셀 파일로 저장했습니다.\")"
      ],
      "metadata": {
        "colab": {
          "base_uri": "https://localhost:8080/"
        },
        "id": "xvc6vCBpGb5P",
        "outputId": "ecd5ee19-3ad8-47e3-a8e7-816809ceeee5"
      },
      "execution_count": 17,
      "outputs": [
        {
          "output_type": "stream",
          "name": "stdout",
          "text": [
            "상품 정보를 엑셀 파일로 저장했습니다.\n"
          ]
        }
      ]
    },
    {
      "cell_type": "code",
      "source": [
        "def crawl_gmarket_search(query, num_pages):\n",
        "    product_names = []\n",
        "\n",
        "    for page in range(1, num_pages + 1):\n",
        "        url = f\"https://www.gmarket.co.kr/n/search?keyword={query}&k=20&p={page}\"\n",
        "        headers = {\n",
        "            'User-Agent': 'Mozilla/5.0 (Windows NT 10.0; Win64; x64) AppleWebKit/537.36 (KHTML, like Gecko) Chrome/96.0.4664.110 Safari/537.36'\n",
        "        }\n",
        "        response = requests.get(url, headers=headers)\n",
        "\n",
        "        if response.status_code == 200:\n",
        "            soup = BeautifulSoup(response.text, 'html.parser')\n",
        "            product_items = soup.find_all('span', class_='text__item')\n",
        "\n",
        "            for item in product_items:\n",
        "                product_name = item.get('title')\n",
        "                product_names.append(product_name)\n",
        "        else:\n",
        "            print(f\"Failed to retrieve search results for page {page}.\")\n",
        "\n",
        "    return product_names\n",
        "\n",
        "# 검색어와 페이지 수\n",
        "search_query = \"홈트레이닝\"\n",
        "num_pages = 50  # 가져올 페이지 수 (50페이지)\n",
        "\n",
        "# 지마켓 검색 결과에서 상품 이름 추출\n",
        "product_names = crawl_gmarket_search(search_query, num_pages)\n",
        "\n",
        "# 결과를 데이터프레임으로 변환\n",
        "df = pd.DataFrame(product_names, columns=['Product Name'])\n",
        "\n",
        "# 엑셀 파일로 저장\n",
        "file_path = '/content/sample_data/빅데이터마케팅_지마켓/gmarket_products_홈트레이닝_50페이지.xlsx'\n",
        "df.to_excel(file_path, index=False)\n",
        "\n",
        "print(\"상품 정보를 엑셀 파일로 저장했습니다.\")"
      ],
      "metadata": {
        "colab": {
          "base_uri": "https://localhost:8080/"
        },
        "id": "uKiQadqsHN4j",
        "outputId": "a65ade0f-877e-49f9-d4b7-83e94b41adbd"
      },
      "execution_count": 18,
      "outputs": [
        {
          "output_type": "stream",
          "name": "stdout",
          "text": [
            "상품 정보를 엑셀 파일로 저장했습니다.\n"
          ]
        }
      ]
    }
  ]
}